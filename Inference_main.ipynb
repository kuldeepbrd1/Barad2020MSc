{
  "nbformat": 4,
  "nbformat_minor": 0,
  "metadata": {
    "colab": {
      "name": "Copy of Inference_main.ipynb",
      "provenance": [],
      "collapsed_sections": [],
      "toc_visible": true
    },
    "kernelspec": {
      "name": "python3",
      "display_name": "Python 3"
    },
    "accelerator": "GPU"
  },
  "cells": [
    {
      "cell_type": "code",
      "metadata": {
        "id": "hnbO31vmKLcY",
        "colab": {
          "base_uri": "https://localhost:8080/",
          "height": 35
        },
        "outputId": "b4b4825e-a72b-4cea-8c8f-e12f491e4a24"
      },
      "source": [
        "import torch, os\n",
        "import numpy as np\n",
        "from PIL import Image\n",
        "from matplotlib import pyplot as plt\n",
        "import torchvision as vision\n",
        "import cv2\n",
        "\n",
        "%matplotlib inline\n",
        "torch.__version__"
      ],
      "execution_count": 2,
      "outputs": [
        {
          "output_type": "execute_result",
          "data": {
            "application/vnd.google.colaboratory.intrinsic+json": {
              "type": "string"
            },
            "text/plain": [
              "'1.7.0+cu101'"
            ]
          },
          "metadata": {
            "tags": []
          },
          "execution_count": 2
        }
      ]
    },
    {
      "cell_type": "code",
      "metadata": {
        "id": "LoLTyD7VOCoc",
        "colab": {
          "base_uri": "https://localhost:8080/",
          "height": 1000
        },
        "outputId": "b384725c-3fa5-4f9c-910b-361ad084c6a0"
      },
      "source": [
        "!git clone https://github.com/leoxiaobin/deep-high-resolution-net.pytorch\n",
        "HRNET_DIR =  '/content/deep-high-resolution-net.pytorch'\n",
        "if os.getcwd()!=HRNET_DIR:\n",
        "  os.chdir(HRNET_DIR)\n",
        "!pip install -r requirements.txt"
      ],
      "execution_count": 55,
      "outputs": [
        {
          "output_type": "stream",
          "text": [
            "Cloning into 'deep-high-resolution-net.pytorch'...\n",
            "remote: Enumerating objects: 275, done.\u001b[K\n",
            "remote: Total 275 (delta 0), reused 0 (delta 0), pack-reused 275\u001b[K\n",
            "Receiving objects: 100% (275/275), 15.29 MiB | 50.34 MiB/s, done.\n",
            "Resolving deltas: 100% (127/127), done.\n",
            "Collecting EasyDict==1.7\n",
            "  Downloading https://files.pythonhosted.org/packages/df/e0/021f827dd5c11ac32c89f4b6bd0e3eddfd62d544112c298bf0b13e6b0def/easydict-1.7.tar.gz\n",
            "Collecting opencv-python==3.4.1.15\n",
            "\u001b[?25l  Downloading https://files.pythonhosted.org/packages/7c/78/bc95e29057e80d1da71912426113e85f20752b1031193f51750322354937/opencv_python-3.4.1.15-cp36-cp36m-manylinux1_x86_64.whl (24.9MB)\n",
            "\u001b[K     |████████████████████████████████| 24.9MB 129kB/s \n",
            "\u001b[?25hCollecting shapely==1.6.4\n",
            "\u001b[?25l  Downloading https://files.pythonhosted.org/packages/bd/f2/9f5f3cb42ce722aef3341cbbe7ed54aed6e198c75b5f08fcc1265eb3499d/Shapely-1.6.4-cp36-cp36m-manylinux1_x86_64.whl (1.5MB)\n",
            "\u001b[K     |████████████████████████████████| 1.5MB 50.9MB/s \n",
            "\u001b[?25hRequirement already satisfied: Cython in /usr/local/lib/python3.6/dist-packages (from -r requirements.txt (line 4)) (0.29.21)\n",
            "Requirement already satisfied: scipy in /usr/local/lib/python3.6/dist-packages (from -r requirements.txt (line 5)) (1.4.1)\n",
            "Requirement already satisfied: pandas in /usr/local/lib/python3.6/dist-packages (from -r requirements.txt (line 6)) (1.1.5)\n",
            "Requirement already satisfied: pyyaml in /usr/local/lib/python3.6/dist-packages (from -r requirements.txt (line 7)) (3.13)\n",
            "Collecting json_tricks\n",
            "  Downloading https://files.pythonhosted.org/packages/41/ab/f778a61e3195e656da5a6b9a5392d52b5ed4447fcfbb6413bf1077e60fd1/json_tricks-3.15.5-py2.py3-none-any.whl\n",
            "Requirement already satisfied: scikit-image in /usr/local/lib/python3.6/dist-packages (from -r requirements.txt (line 9)) (0.16.2)\n",
            "Collecting yacs>=0.1.5\n",
            "  Downloading https://files.pythonhosted.org/packages/38/4f/fe9a4d472aa867878ce3bb7efb16654c5d63672b86dc0e6e953a67018433/yacs-0.1.8-py3-none-any.whl\n",
            "Collecting tensorboardX==1.6\n",
            "\u001b[?25l  Downloading https://files.pythonhosted.org/packages/5c/76/89dd44458eb976347e5a6e75eb79fecf8facd46c1ce259bad54e0044ea35/tensorboardX-1.6-py2.py3-none-any.whl (129kB)\n",
            "\u001b[K     |████████████████████████████████| 133kB 59.0MB/s \n",
            "\u001b[?25hRequirement already satisfied: numpy>=1.11.3 in /usr/local/lib/python3.6/dist-packages (from opencv-python==3.4.1.15->-r requirements.txt (line 2)) (1.19.5)\n",
            "Requirement already satisfied: python-dateutil>=2.7.3 in /usr/local/lib/python3.6/dist-packages (from pandas->-r requirements.txt (line 6)) (2.8.1)\n",
            "Requirement already satisfied: pytz>=2017.2 in /usr/local/lib/python3.6/dist-packages (from pandas->-r requirements.txt (line 6)) (2018.9)\n",
            "Requirement already satisfied: PyWavelets>=0.4.0 in /usr/local/lib/python3.6/dist-packages (from scikit-image->-r requirements.txt (line 9)) (1.1.1)\n",
            "Requirement already satisfied: pillow>=4.3.0 in /usr/local/lib/python3.6/dist-packages (from scikit-image->-r requirements.txt (line 9)) (7.0.0)\n",
            "Requirement already satisfied: matplotlib!=3.0.0,>=2.0.0 in /usr/local/lib/python3.6/dist-packages (from scikit-image->-r requirements.txt (line 9)) (3.2.2)\n",
            "Requirement already satisfied: networkx>=2.0 in /usr/local/lib/python3.6/dist-packages (from scikit-image->-r requirements.txt (line 9)) (2.5)\n",
            "Requirement already satisfied: imageio>=2.3.0 in /usr/local/lib/python3.6/dist-packages (from scikit-image->-r requirements.txt (line 9)) (2.4.1)\n",
            "Requirement already satisfied: protobuf>=3.2.0 in /usr/local/lib/python3.6/dist-packages (from tensorboardX==1.6->-r requirements.txt (line 11)) (3.12.4)\n",
            "Requirement already satisfied: six in /usr/local/lib/python3.6/dist-packages (from tensorboardX==1.6->-r requirements.txt (line 11)) (1.15.0)\n",
            "Requirement already satisfied: pyparsing!=2.0.4,!=2.1.2,!=2.1.6,>=2.0.1 in /usr/local/lib/python3.6/dist-packages (from matplotlib!=3.0.0,>=2.0.0->scikit-image->-r requirements.txt (line 9)) (2.4.7)\n",
            "Requirement already satisfied: kiwisolver>=1.0.1 in /usr/local/lib/python3.6/dist-packages (from matplotlib!=3.0.0,>=2.0.0->scikit-image->-r requirements.txt (line 9)) (1.3.1)\n",
            "Requirement already satisfied: cycler>=0.10 in /usr/local/lib/python3.6/dist-packages (from matplotlib!=3.0.0,>=2.0.0->scikit-image->-r requirements.txt (line 9)) (0.10.0)\n",
            "Requirement already satisfied: decorator>=4.3.0 in /usr/local/lib/python3.6/dist-packages (from networkx>=2.0->scikit-image->-r requirements.txt (line 9)) (4.4.2)\n",
            "Requirement already satisfied: setuptools in /usr/local/lib/python3.6/dist-packages (from protobuf>=3.2.0->tensorboardX==1.6->-r requirements.txt (line 11)) (51.3.3)\n",
            "Building wheels for collected packages: EasyDict\n",
            "  Building wheel for EasyDict (setup.py) ... \u001b[?25l\u001b[?25hdone\n",
            "  Created wheel for EasyDict: filename=easydict-1.7-cp36-none-any.whl size=6112 sha256=6eedd92d0bbcdaf1885c387a7988936c25fb8ce2c4923f0357d057dad32d0032\n",
            "  Stored in directory: /root/.cache/pip/wheels/58/40/dd/87bc05b3d56641ccb8f099babf6ff5faed5db5c03c5d837450\n",
            "Successfully built EasyDict\n",
            "\u001b[31mERROR: albumentations 0.1.12 has requirement imgaug<0.2.7,>=0.2.5, but you'll have imgaug 0.2.9 which is incompatible.\u001b[0m\n",
            "Installing collected packages: EasyDict, opencv-python, shapely, json-tricks, yacs, tensorboardX\n",
            "  Found existing installation: easydict 1.9\n",
            "    Uninstalling easydict-1.9:\n",
            "      Successfully uninstalled easydict-1.9\n",
            "  Found existing installation: opencv-python 4.1.2.30\n",
            "    Uninstalling opencv-python-4.1.2.30:\n",
            "      Successfully uninstalled opencv-python-4.1.2.30\n",
            "  Found existing installation: Shapely 1.7.1\n",
            "    Uninstalling Shapely-1.7.1:\n",
            "      Successfully uninstalled Shapely-1.7.1\n",
            "Successfully installed EasyDict-1.7 json-tricks-3.15.5 opencv-python-3.4.1.15 shapely-1.6.4 tensorboardX-1.6 yacs-0.1.8\n"
          ],
          "name": "stdout"
        },
        {
          "output_type": "display_data",
          "data": {
            "application/vnd.colab-display-data+json": {
              "pip_warning": {
                "packages": [
                  "cv2"
                ]
              }
            }
          },
          "metadata": {
            "tags": []
          }
        }
      ]
    },
    {
      "cell_type": "code",
      "metadata": {
        "id": "v-zz-J9QOPcq",
        "colab": {
          "base_uri": "https://localhost:8080/"
        },
        "outputId": "f32873eb-370f-4f11-c6a8-c61510096185"
      },
      "source": [
        "!pip install -U 'git+https://github.com/cocodataset/cocoapi.git#subdirectory=PythonAPI'\n",
        "from pycocotools.coco import COCO"
      ],
      "execution_count": 56,
      "outputs": [
        {
          "output_type": "stream",
          "text": [
            "Collecting git+https://github.com/cocodataset/cocoapi.git#subdirectory=PythonAPI\n",
            "  Cloning https://github.com/cocodataset/cocoapi.git to /tmp/pip-req-build-mdclkx0a\n",
            "  Running command git clone -q https://github.com/cocodataset/cocoapi.git /tmp/pip-req-build-mdclkx0a\n",
            "Requirement already satisfied, skipping upgrade: setuptools>=18.0 in /usr/local/lib/python3.6/dist-packages (from pycocotools==2.0) (51.3.3)\n",
            "Requirement already satisfied, skipping upgrade: cython>=0.27.3 in /usr/local/lib/python3.6/dist-packages (from pycocotools==2.0) (0.29.21)\n",
            "Requirement already satisfied, skipping upgrade: matplotlib>=2.1.0 in /usr/local/lib/python3.6/dist-packages (from pycocotools==2.0) (3.2.2)\n",
            "Requirement already satisfied, skipping upgrade: pyparsing!=2.0.4,!=2.1.2,!=2.1.6,>=2.0.1 in /usr/local/lib/python3.6/dist-packages (from matplotlib>=2.1.0->pycocotools==2.0) (2.4.7)\n",
            "Requirement already satisfied, skipping upgrade: cycler>=0.10 in /usr/local/lib/python3.6/dist-packages (from matplotlib>=2.1.0->pycocotools==2.0) (0.10.0)\n",
            "Requirement already satisfied, skipping upgrade: numpy>=1.11 in /usr/local/lib/python3.6/dist-packages (from matplotlib>=2.1.0->pycocotools==2.0) (1.19.5)\n",
            "Requirement already satisfied, skipping upgrade: kiwisolver>=1.0.1 in /usr/local/lib/python3.6/dist-packages (from matplotlib>=2.1.0->pycocotools==2.0) (1.3.1)\n",
            "Requirement already satisfied, skipping upgrade: python-dateutil>=2.1 in /usr/local/lib/python3.6/dist-packages (from matplotlib>=2.1.0->pycocotools==2.0) (2.8.1)\n",
            "Requirement already satisfied, skipping upgrade: six in /usr/local/lib/python3.6/dist-packages (from cycler>=0.10->matplotlib>=2.1.0->pycocotools==2.0) (1.15.0)\n",
            "Building wheels for collected packages: pycocotools\n",
            "  Building wheel for pycocotools (setup.py) ... \u001b[?25l\u001b[?25hdone\n",
            "  Created wheel for pycocotools: filename=pycocotools-2.0-cp36-cp36m-linux_x86_64.whl size=265559 sha256=88d13d876108907c48a6817f5a273a19537602c83f34bb02407431fcf6a1cf89\n",
            "  Stored in directory: /tmp/pip-ephem-wheel-cache-5pdgpu65/wheels/90/51/41/646daf401c3bc408ff10de34ec76587a9b3ebfac8d21ca5c3a\n",
            "Successfully built pycocotools\n",
            "Installing collected packages: pycocotools\n",
            "  Found existing installation: pycocotools 2.0.2\n",
            "    Uninstalling pycocotools-2.0.2:\n",
            "      Successfully uninstalled pycocotools-2.0.2\n",
            "Successfully installed pycocotools-2.0\n"
          ],
          "name": "stdout"
        }
      ]
    },
    {
      "cell_type": "code",
      "metadata": {
        "id": "DkJYeUTIOZm6"
      },
      "source": [
        "HRNET_DRIVE_DIR = '/content/drive/My Drive/Envisat/HRNet_regression/'\n",
        "\n",
        "\n",
        "if os.getcwd()!=HRNET_DRIVE_DIR:\n",
        "  os.chdir(HRNET_DRIVE_DIR)"
      ],
      "execution_count": 57,
      "outputs": []
    },
    {
      "cell_type": "code",
      "metadata": {
        "id": "Hk0n5R71KYlA"
      },
      "source": [
        "class Extension:\r\n",
        "  def get(filepath):\r\n",
        "    return filepath.split('.')[-1]"
      ],
      "execution_count": 58,
      "outputs": []
    },
    {
      "cell_type": "code",
      "metadata": {
        "id": "VfaD6BlrjDbo"
      },
      "source": [
        "def compute_bbox(img_size, uv_pt, margin = 5):\n",
        "        '''\n",
        "\n",
        "\n",
        "        Parameters\n",
        "        ----------\n",
        "        uv_pt : TYPE\n",
        "            DESCRIPTION.\n",
        "        margin : TYPE, optional\n",
        "            DESCRIPTION. The default is 5.\n",
        "\n",
        "        Returns\n",
        "        -------\n",
        "        list\n",
        "            DESCRIPTION.\n",
        "\n",
        "        '''\n",
        "        #margin:percent : default  5% relaxed in w/h\n",
        "        relax_margin_u= (margin/100)*(max(uv_pt[0])-min(uv_pt[0]))\n",
        "        relax_margin_v= (margin/100)*(max(uv_pt[1])-min(uv_pt[1]))\n",
        "        u_max = max(uv_pt[0])+relax_margin_u if max(uv_pt[0])+relax_margin_u <=img_size[0] else img_size[0]\n",
        "        u_min = min(uv_pt[0])-relax_margin_u if min(uv_pt[0])-relax_margin_u >= 0 else 0\n",
        "        v_max = max(uv_pt[1])+relax_margin_v if max(uv_pt[1])+relax_margin_v <=img_size[1] else img_size[1]\n",
        "        v_min = min(uv_pt[1])-relax_margin_v if min(uv_pt[1])-relax_margin_v >= 0 else 0\n",
        "\n",
        "        return [int(u_min), int(v_min), int(u_max), int(v_max)]"
      ],
      "execution_count": 59,
      "outputs": []
    },
    {
      "cell_type": "markdown",
      "metadata": {
        "id": "3IDqFiHlTJ-v"
      },
      "source": [
        "## Original Image and Annotations"
      ]
    },
    {
      "cell_type": "markdown",
      "metadata": {
        "id": "AS1RQe4AGwtW"
      },
      "source": [
        "Import image"
      ]
    },
    {
      "cell_type": "code",
      "metadata": {
        "id": "_Vg3DjGXlWEt"
      },
      "source": [
        "img_path = '/content/drive/MyDrive/Envisat/data/Envisat_inference_test_Jan_2021/image_0.png'\r\n",
        "datafile = '/content/drive/MyDrive/Envisat/data/Envisat_inference_test_Jan_2021/data.txt'\r\n",
        "coco_available = False # COCO annotations in datafile?\r\n",
        "n_kps = 12\r\n",
        "\r\n",
        "img_name= (img_path.split('/')[-1]).split('.')[0]\r\n",
        "img = Image.open(img_path,'r')\r\n",
        "channels = 3 if  np.array(img).shape[2]==3 else 1\r\n",
        "img_size = (img.size[0],img.size[1])\r\n",
        "if channels==1:\r\n",
        "  img1=np.array(img)\r\n",
        "  img1 = np.zeros((gray.shape[0],gray.shape[1],3),dtype='uint8')\r\n",
        "  img1[:,:,0] = gray \r\n",
        "  img1[:,:,1] = gray \r\n",
        "  img1[:,:,2] = gray\r\n",
        "  img= Image.fromarray(img1)\r\n"
      ],
      "execution_count": 87,
      "outputs": []
    },
    {
      "cell_type": "markdown",
      "metadata": {
        "id": "iRZcUmTrJLcz"
      },
      "source": [
        "Compute or import bbox"
      ]
    },
    {
      "cell_type": "code",
      "metadata": {
        "colab": {
          "base_uri": "https://localhost:8080/",
          "height": 269
        },
        "id": "9APzyiOJJJ0i",
        "outputId": "5028f5ea-bba2-4bae-c9eb-542388499e97"
      },
      "source": [
        "if coco_available:\r\n",
        "  cocofile = datafile\r\n",
        "  cocofile = '/content/drive/My Drive/Envisat/data/Envisat_Set1/traj_test/test_traj_12pts_150m.json'\r\n",
        "  coco = COCO(cocofile)\r\n",
        "  annIds = coco.getAnnIds(imgIds = img_id)\r\n",
        "  annotations = coco.loadAnns(annIds)\r\n",
        "  bbox= {img_name: annotations[0]['bbox']}\r\n",
        "  kps= {img_name: annotations[0]['keypoints']}\r\n",
        "  coords = kps[img_name] \r\n",
        "  kps_gt = np.zeros((n_kps,2))\r\n",
        "  uv_pt = ([],[])\r\n",
        "  for k in range(n_kps):\r\n",
        "    x = coords[3*k]\r\n",
        "    y =coords[3*k+1]\r\n",
        "    kps_gt[k,:] = [x,y]\r\n",
        "    uv_pt[0].append(x)\r\n",
        "    uv_pt[1].append(y)\r\n",
        "\r\n",
        "  xyxy = compute_bbox((512,512),uv_pt)\r\n",
        "  xywh = [ xyxy[0],xyxy[1], xyxy[2]-xyxy[0], xyxy[3]-xyxy[1]] \r\n",
        "  bbox = {img_name: xywh} if n_kps==12 else bbox \r\n",
        "\r\n",
        "elif Extension.get(datafile) == 'txt': #this is tricky but improve it when needed\r\n",
        "  with open(datafile,'r') as fp:\r\n",
        "    txt_data = fp.read()\r\n",
        "  parsed_raw = txt_data.split(' ')\r\n",
        "  img_id = parsed_raw[0]\r\n",
        "  kps_raw = parsed_raw[7:]\r\n",
        "  u_list = []\r\n",
        "  v_list = []\r\n",
        "  for i in range(int(len(kps_raw)/3)): #take care: id included : change 3 to 2 otherwise\r\n",
        "    u = float(kps_raw[3*i+1])\r\n",
        "    v = float(kps_raw[3*i+2])\r\n",
        "    u_list.append(u)\r\n",
        "    v_list.append(v)\r\n",
        "  uv_pts = [u_list, v_list]\r\n",
        "  kps_gt = [[u_list[j],v_list[j]] for j in range(len(u_list))]\r\n",
        "  xyxy = compute_bbox(img_size,uv_pts)\r\n",
        "  xywh = [ xyxy[0],xyxy[1], xyxy[2]-xyxy[0], xyxy[3]-xyxy[1]] \r\n",
        "  bbox = {img_name: xywh} if n_kps==12 else bbox \r\n",
        "\r\n",
        "  img_trial = np.array(img.copy())\r\n",
        "  #visualize\r\n",
        "  cv2.rectangle(img_trial,(xyxy[0],xyxy[1]),(xyxy[2],xyxy[3]), color=(255,255,0))\r\n",
        "  plt.imshow(img_trial)"
      ],
      "execution_count": 88,
      "outputs": [
        {
          "output_type": "display_data",
          "data": {
            "image/png": "[encoded data removed]",
            "text/plain": [
              "<Figure size 432x288 with 1 Axes>"
            ]
          },
          "metadata": {
            "tags": [],
            "needs_background": "light"
          }
        }
      ]
    },
    {
      "cell_type": "code",
      "metadata": {
        "colab": {
          "base_uri": "https://localhost:8080/"
        },
        "id": "zZalAa0BTnAn",
        "outputId": "8adb5a05-c830-48cb-80d2-ce37f3b6d087"
      },
      "source": [
        "kps_gt"
      ],
      "execution_count": 89,
      "outputs": [
        {
          "output_type": "execute_result",
          "data": {
            "text/plain": [
              "[[245.590549882, 215.619821516],\n",
              " [273.074447875, 215.619923097],\n",
              " [273.498464467, 214.617401798],\n",
              " [245.255156145, 214.617297188],\n",
              " [244.708511127, 304.85968411],\n",
              " [245.044188133, 303.358878486],\n",
              " [273.878679159, 303.360564815],\n",
              " [274.473872262, 304.927236931],\n",
              " [312.440450407, 277.423877127],\n",
              " [206.368073727, 277.555761113],\n",
              " [207.215156666, 264.188291004],\n",
              " [312.093932509, 264.188638576]]"
            ]
          },
          "metadata": {
            "tags": []
          },
          "execution_count": 89
        }
      ]
    },
    {
      "cell_type": "code",
      "metadata": {
        "id": "k23PlG1AOi4K",
        "colab": {
          "base_uri": "https://localhost:8080/",
          "height": 239
        },
        "outputId": "d8fe9906-5a14-4547-afd6-d15b1d002b2c"
      },
      "source": [
        "\"\"\"img_id=10\n",
        "n_kps = 12\n",
        "img_path = f'/content/drive/MyDrive/Envisat/data/Lab-real Envisat/image_97_brightness.png'\n",
        "img = Image.open(img_path,'r')\n",
        "gray=np.array(img)\n",
        "img1 = gray\n",
        "#img1 = np.zeros((gray.shape[0],gray.shape[1],3),dtype='uint8')\n",
        "#img1[:,:,0] = gray \n",
        "#img1[:,:,1] = gray \n",
        "#img1[:,:,2] = gray \n",
        "fig = plt.figure(figsize=(10,10))\n",
        "ax = fig.gca()\n",
        "ax.imshow(img1)\n",
        "img= Image.fromarray(img1)\n",
        "bbox = [0,0, img1.shape[0], img1.shape[1]];\n",
        "\n",
        "\n",
        "img_name = (img_path.split('/')[-1]).split('.')[0]\n",
        "datafile = '/content/drive/MyDrive/Envisat/data/Envisat_inference_test_Jan_2021/data.txt'\n",
        "cocofile = None\n",
        "\n",
        "\n",
        "\n",
        "'''cocofile = '/content/drive/My Drive/Envisat/data/Envisat_Set1/traj_test/test_traj_12pts_150m.json'\n",
        "coco = COCO(cocofile)\n",
        "annIds = coco.getAnnIds(imgIds = img_id)\n",
        "annotations = coco.loadAnns(annIds)\n",
        "bbox= {img_name: annotations[0]['bbox']}\n",
        "kps= {img_name: annotations[0]['keypoints']}\n",
        "coords = kps[img_name] \n",
        "kps_gt = np.zeros((n_kps,2))\n",
        "uv_pt = ([],[])\n",
        "for k in range(n_kps):\n",
        "  x = coords[3*k]\n",
        "  y =coords[3*k+1]\n",
        "  kps_gt[k,:] = [x,y]\n",
        "  uv_pt[0].append(x)\n",
        "  uv_pt[1].append(y)\n",
        "\n",
        "xyxy = compute_bbox((512,512),uv_pt) \n",
        "'''\n",
        "xywh = bbox\n",
        "#xywh = [ xyxy[0],xyxy[1], xyxy[2]-xyxy[0], xyxy[3]-xyxy[1]] \n",
        "#bbox = {img_name: xywh} if n_kps==12 else bbox\n",
        "bbox = {img_name: xywh}\"\"\""
      ],
      "execution_count": 90,
      "outputs": [
        {
          "output_type": "execute_result",
          "data": {
            "application/vnd.google.colaboratory.intrinsic+json": {
              "type": "string"
            },
            "text/plain": [
              "\"img_id=10\\nn_kps = 12\\nimg_path = f'/content/drive/MyDrive/Envisat/data/Lab-real Envisat/image_97_brightness.png'\\nimg = Image.open(img_path,'r')\\ngray=np.array(img)\\nimg1 = gray\\n#img1 = np.zeros((gray.shape[0],gray.shape[1],3),dtype='uint8')\\n#img1[:,:,0] = gray \\n#img1[:,:,1] = gray \\n#img1[:,:,2] = gray \\nfig = plt.figure(figsize=(10,10))\\nax = fig.gca()\\nax.imshow(img1)\\nimg= Image.fromarray(img1)\\nbbox = [0,0, img1.shape[0], img1.shape[1]];\\n\\n\\nimg_name = (img_path.split('/')[-1]).split('.')[0]\\ndatafile = '/content/drive/MyDrive/Envisat/data/Envisat_inference_test_Jan_2021/data.txt'\\ncocofile = None\\n\\n\\n\\n'''cocofile = '/content/drive/My Drive/Envisat/data/Envisat_Set1/traj_test/test_traj_12pts_150m.json'\\ncoco = COCO(cocofile)\\nannIds = coco.getAnnIds(imgIds = img_id)\\nannotations = coco.loadAnns(annIds)\\nbbox= {img_name: annotations[0]['bbox']}\\nkps= {img_name: annotations[0]['keypoints']}\\ncoords = kps[img_name] \\nkps_gt = np.zeros((n_kps,2))\\nuv_pt = ([],[])\\nfor k in range(n_kps):\\n  x = coords[3*k]\\n  y =coords[3*k+1]\\n  kps_gt[k,:] = [x,y]\\n  uv_pt[0].append(x)\\n  uv_pt[1].append(y)\\n\\nxyxy = compute_bbox((512,512),uv_pt) \\n'''\\nxywh = bbox\\n#xywh = [ xyxy[0],xyxy[1], xyxy[2]-xyxy[0], xyxy[3]-xyxy[1]] \\n#bbox = {img_name: xywh} if n_kps==12 else bbox\\nbbox = {img_name: xywh}\""
            ]
          },
          "metadata": {
            "tags": []
          },
          "execution_count": 90
        }
      ]
    },
    {
      "cell_type": "code",
      "metadata": {
        "id": "Twkvg-oXMtt8",
        "colab": {
          "base_uri": "https://localhost:8080/",
          "height": 286
        },
        "outputId": "1f2da3a6-f635-4381-ac5e-18f3706382b2"
      },
      "source": [
        "plt.imshow(img)"
      ],
      "execution_count": 91,
      "outputs": [
        {
          "output_type": "execute_result",
          "data": {
            "text/plain": [
              "<matplotlib.image.AxesImage at 0x7f8c6d755518>"
            ]
          },
          "metadata": {
            "tags": []
          },
          "execution_count": 91
        },
        {
          "output_type": "display_data",
          "data": {
            "image/png": "[encoded data removed]",
            "text/plain": [
              "<Figure size 432x288 with 1 Axes>"
            ]
          },
          "metadata": {
            "tags": [],
            "needs_background": "light"
          }
        }
      ]
    },
    {
      "cell_type": "markdown",
      "metadata": {
        "id": "aLD_XTuBM_d-"
      },
      "source": [
        "Image Transforms"
      ]
    },
    {
      "cell_type": "code",
      "metadata": {
        "id": "OeVzTGxUbewO",
        "colab": {
          "base_uri": "https://localhost:8080/",
          "height": 286
        },
        "outputId": "4e63db20-c8be-40ce-cfb1-77e22b25fb97"
      },
      "source": [
        "jitter = vision.transforms.ColorJitter(brightness= 0.5,contrast=0.5)#, saturation = 0.1, hue = 0.5)\n",
        "jitter = jitter(img)\n",
        "plt.imshow(jitter)"
      ],
      "execution_count": 92,
      "outputs": [
        {
          "output_type": "execute_result",
          "data": {
            "text/plain": [
              "<matplotlib.image.AxesImage at 0x7f8c6d7153c8>"
            ]
          },
          "metadata": {
            "tags": []
          },
          "execution_count": 92
        },
        {
          "output_type": "display_data",
          "data": {
            "image/png": "[encoded data removed]",
            "text/plain": [
              "<Figure size 432x288 with 1 Axes>"
            ]
          },
          "metadata": {
            "tags": [],
            "needs_background": "light"
          }
        }
      ]
    },
    {
      "cell_type": "markdown",
      "metadata": {
        "id": "rYlDkPg41ZXa"
      },
      "source": [
        "Fake args Namespace Class"
      ]
    },
    {
      "cell_type": "code",
      "metadata": {
        "id": "SfyZiTaWTNuM"
      },
      "source": [
        "class Namespace:\n",
        "    def __init__(self, **kwargs):\n",
        "        self.__dict__.update(kwargs)\n"
      ],
      "execution_count": 93,
      "outputs": []
    },
    {
      "cell_type": "markdown",
      "metadata": {
        "id": "9ZYrgJQBfY4W"
      },
      "source": [
        "# Pose Inference: IPython"
      ]
    },
    {
      "cell_type": "code",
      "metadata": {
        "id": "0aqlLyaGfVfZ",
        "colab": {
          "base_uri": "https://localhost:8080/"
        },
        "outputId": "413174ff-664b-4b3d-bd0f-203ccf6e3e09"
      },
      "source": [
        "'''DO NOT JUDGE THIS CODE. \n",
        "   IT WAS WRITTEN AT 3 AM \n",
        "   DURING COVID-19 QUARANTINE\n",
        "'''\n",
        "\n",
        "from demo.sat_pose_inference import main as infer_kepyoints\n",
        "\n",
        "cfg_path = '/content/drive/My Drive/Envisat/HRNet_regression/experiments/EXP/EXP6_w32small_256x256_adam_lr1e-3_ENVISAT+IC_NOimagenet.yaml'\n",
        "#cfg_path = '/content/drive/My Drive/Envisat/HRNet_regression/experiments/coco/hrnet/w32_256x256_adam_lr1e-3_ENVISAT-1_test.yaml'\n",
        "\n",
        "model_path = 'output/Envisat+IC/envisat_coco_envisat/pose_hrnet/EXP6_w32small_256x256_adam_lr1e-3_ENVISAT+IC_NOimagenet/model_best.pth'\n",
        "#model_path = 'output/Envisat_Set1/coco/pose_hrnet/w32_256x256_adam_lr1e-3_ENVISAT-1/model_best.pth'\n",
        "\n",
        "\n",
        "''' Name you test data_set here. This helps segment tests in /output/sat_pose_inferences by folder of data_name'''\n",
        "data_name = 'beta_test'\n",
        "\n",
        "img_bgr = np.array(jitter)\n",
        "img_in0 =img_bgr[:, :, [2, 1, 0]]\n",
        "img_in1 = img_in0.copy();\n",
        "img_in = cv2.GaussianBlur(img_in1,(3,3),2)\n",
        "bbox_in = bbox\n",
        "\n",
        "\n",
        "args = Namespace(\n",
        "    cfg= cfg_path,\n",
        "    data_name = data_name,\n",
        "    logDir = 'log/',\n",
        "    outputDir = 'output/', \n",
        "    modelDir = '',\n",
        "    dataDir = '',\n",
        "    prevModelDir = '',\n",
        "    writeBoxFrames = False,\n",
        "    opts = ['TEST.MODEL_FILE', model_path],)\n",
        "\n",
        "\n",
        "\n",
        "#str_dir = f'/content/drive/My\\ Drive/Envisat/data/Envisat_Set1/traj_test/test_traj_150m/0-999/image_{img_id}.jpg'\n",
        "kps_pred, maxvals = infer_kepyoints(image= img_in, bbox= bbox_in, args = args)\n",
        "print(kps_pred)\n",
        "print(maxvals)"
      ],
      "execution_count": 94,
      "outputs": [
        {
          "output_type": "stream",
          "text": [
            "<__main__.Namespace object at 0x7f8c6d646080>\n",
            "=> loading model from output/Envisat+IC/envisat_coco_envisat/pose_hrnet/EXP6_w32small_256x256_adam_lr1e-3_ENVISAT+IC_NOimagenet/model_best.pth\n",
            "{'image_0': 0}\n",
            "image_0\n",
            "[[201, 210, 116, 99]]\n",
            "2\n",
            "[[201, 210, 116, 99]]\n",
            "inference time: 0.011887311935424805 s\n",
            "0, [272, 215]\n",
            "1, [270, 215]\n",
            "2, [247, 214]\n",
            "3, [244, 215]\n",
            "4, [206, 263]\n",
            "5, [311, 263]\n",
            "6, [311, 278]\n",
            "7, [207, 278]\n",
            "8, [245, 301]\n",
            "9, [245, 305]\n",
            "10, [272, 300]\n",
            "11, [273, 305]\n",
            "output/sat_pose_inferences/envisat_coco_envisat/beta_test/poses/image_0_pose.jpg\n",
            "[[[272.02734 215.88672]\n",
            "  [270.89453 215.88672]\n",
            "  [247.10547 214.7539 ]\n",
            "  [244.83984 215.88672]\n",
            "  [206.32422 263.46484]\n",
            "  [311.67578 263.46484]\n",
            "  [311.67578 278.1914 ]\n",
            "  [207.45703 278.1914 ]\n",
            "  [245.97266 301.98047]\n",
            "  [245.97266 305.3789 ]\n",
            "  [272.02734 300.84766]\n",
            "  [273.16016 305.3789 ]]]\n",
            "[[[0.9536944 ]\n",
            "  [0.92524505]\n",
            "  [0.85155034]\n",
            "  [0.9158264 ]\n",
            "  [0.9598065 ]\n",
            "  [0.87176704]\n",
            "  [0.9262904 ]\n",
            "  [0.98752373]\n",
            "  [0.94279146]\n",
            "  [0.8538541 ]\n",
            "  [0.7876201 ]\n",
            "  [0.905343  ]]]\n"
          ],
          "name": "stdout"
        }
      ]
    },
    {
      "cell_type": "markdown",
      "metadata": {
        "id": "cuT2rGdbqV1t"
      },
      "source": [
        "Show Result"
      ]
    },
    {
      "cell_type": "code",
      "metadata": {
        "id": "Iuy_Uwh3NeTE",
        "colab": {
          "base_uri": "https://localhost:8080/"
        },
        "outputId": "b4bf9fc2-b13c-4dcc-8bdd-047d491d4f2e"
      },
      "source": [
        "bbox_in"
      ],
      "execution_count": 95,
      "outputs": [
        {
          "output_type": "execute_result",
          "data": {
            "text/plain": [
              "{'image_0': [201, 210, 116, 99]}"
            ]
          },
          "metadata": {
            "tags": []
          },
          "execution_count": 95
        }
      ]
    },
    {
      "cell_type": "code",
      "metadata": {
        "id": "GKaGJl3k1qlI",
        "colab": {
          "base_uri": "https://localhost:8080/"
        },
        "outputId": "db10864e-3d74-4e0b-9f39-18c44dc2763b"
      },
      "source": [
        "error = kps_gt-kps_pred[0,:]\n",
        "dr_error = np.sqrt( error[:,0]**2 + error[:,1]**2 )\n",
        "mean_dr = np.mean(dr_error)\n",
        "median_dr = np.median(dr_error)\n",
        "print(f\" Mean Pixel Error: {mean_dr} px \\n Median Pixel Error: {median_dr} px \\n Max Pixel Error: {np.max(dr_error)} px in keypoint number {np.argmax(dr_error)}\")"
      ],
      "execution_count": 96,
      "outputs": [
        {
          "output_type": "stream",
          "text": [
            " Mean Pixel Error: 46.53674826935457 px \n",
            " Median Pixel Error: 52.42672539298036 px \n",
            " Max Pixel Error: 77.66146540483648 px in keypoint number 5\n"
          ],
          "name": "stdout"
        }
      ]
    },
    {
      "cell_type": "code",
      "metadata": {
        "id": "I1vyhLfYslVx",
        "colab": {
          "base_uri": "https://localhost:8080/",
          "height": 35
        },
        "outputId": "cecd79b5-54a0-459e-89e0-7c982de85ea1"
      },
      "source": [
        "'''from google.colab.patches import cv2_imshow\n",
        "cv2_imshow(img_in)'''"
      ],
      "execution_count": 97,
      "outputs": [
        {
          "output_type": "execute_result",
          "data": {
            "application/vnd.google.colaboratory.intrinsic+json": {
              "type": "string"
            },
            "text/plain": [
              "'from google.colab.patches import cv2_imshow\\ncv2_imshow(img_in)'"
            ]
          },
          "metadata": {
            "tags": []
          },
          "execution_count": 97
        }
      ]
    },
    {
      "cell_type": "code",
      "metadata": {
        "id": "NbCg-r92qVFB",
        "colab": {
          "base_uri": "https://localhost:8080/",
          "height": 367
        },
        "outputId": "af8dee06-06be-4410-fc93-04ddcf076957"
      },
      "source": [
        "\n",
        "#output = f'output/sat_pose_inferences/envisat_coco_envisat/beta_test/poses/image_{img_id}_pose.jpg'\n",
        "output = f'output/sat_pose_inferences/envisat_coco/beta_test/poses/image_{img_id}_pose.jpg'\n",
        "\n",
        "box = [int(coord) for coord in bbox[list(bbox)[0]]]\n",
        "img_out = Image.open(output)\n",
        "\n",
        "x1 = box [0] \n",
        "y1 = box[1]\n",
        "w = box[2]\n",
        "h = box[3]\n",
        "x2= box[2]+box[0]\n",
        "y2 = box[3]+box[1]\n",
        "\n",
        "cv2.rectangle(np.array(img),(x1,y1),(x2,y2), color = (255,255,0))\n",
        "\n",
        "img_crop = img_out.crop((x1,y1,x2,y2))\n",
        "fig = plt.figure(figsize=(20,20))\n",
        "ax = fig.gca()\n",
        "\n",
        "print(np.array(img_crop).shape)\n",
        "ax.imshow(np.asarray(img_crop))\n",
        "\n",
        "#ax.imshow(img_out)"
      ],
      "execution_count": 98,
      "outputs": [
        {
          "output_type": "error",
          "ename": "FileNotFoundError",
          "evalue": "ignored",
          "traceback": [
            "\u001b[0;31m---------------------------------------------------------------------------\u001b[0m",
            "\u001b[0;31mFileNotFoundError\u001b[0m                         Traceback (most recent call last)",
            "\u001b[0;32m<ipython-input-98-2d440ba0644f>\u001b[0m in \u001b[0;36m<module>\u001b[0;34m()\u001b[0m\n\u001b[1;32m      4\u001b[0m \u001b[0;34m\u001b[0m\u001b[0m\n\u001b[1;32m      5\u001b[0m \u001b[0mbox\u001b[0m \u001b[0;34m=\u001b[0m \u001b[0;34m[\u001b[0m\u001b[0mint\u001b[0m\u001b[0;34m(\u001b[0m\u001b[0mcoord\u001b[0m\u001b[0;34m)\u001b[0m \u001b[0;32mfor\u001b[0m \u001b[0mcoord\u001b[0m \u001b[0;32min\u001b[0m \u001b[0mbbox\u001b[0m\u001b[0;34m[\u001b[0m\u001b[0mlist\u001b[0m\u001b[0;34m(\u001b[0m\u001b[0mbbox\u001b[0m\u001b[0;34m)\u001b[0m\u001b[0;34m[\u001b[0m\u001b[0;36m0\u001b[0m\u001b[0;34m]\u001b[0m\u001b[0;34m]\u001b[0m\u001b[0;34m]\u001b[0m\u001b[0;34m\u001b[0m\u001b[0;34m\u001b[0m\u001b[0m\n\u001b[0;32m----> 6\u001b[0;31m \u001b[0mimg_out\u001b[0m \u001b[0;34m=\u001b[0m \u001b[0mImage\u001b[0m\u001b[0;34m.\u001b[0m\u001b[0mopen\u001b[0m\u001b[0;34m(\u001b[0m\u001b[0moutput\u001b[0m\u001b[0;34m)\u001b[0m\u001b[0;34m\u001b[0m\u001b[0;34m\u001b[0m\u001b[0m\n\u001b[0m\u001b[1;32m      7\u001b[0m \u001b[0;34m\u001b[0m\u001b[0m\n\u001b[1;32m      8\u001b[0m \u001b[0mx1\u001b[0m \u001b[0;34m=\u001b[0m \u001b[0mbox\u001b[0m \u001b[0;34m[\u001b[0m\u001b[0;36m0\u001b[0m\u001b[0;34m]\u001b[0m\u001b[0;34m\u001b[0m\u001b[0;34m\u001b[0m\u001b[0m\n",
            "\u001b[0;32m/usr/local/lib/python3.6/dist-packages/PIL/Image.py\u001b[0m in \u001b[0;36mopen\u001b[0;34m(fp, mode)\u001b[0m\n\u001b[1;32m   2807\u001b[0m \u001b[0;34m\u001b[0m\u001b[0m\n\u001b[1;32m   2808\u001b[0m     \u001b[0;32mif\u001b[0m \u001b[0mfilename\u001b[0m\u001b[0;34m:\u001b[0m\u001b[0;34m\u001b[0m\u001b[0;34m\u001b[0m\u001b[0m\n\u001b[0;32m-> 2809\u001b[0;31m         \u001b[0mfp\u001b[0m \u001b[0;34m=\u001b[0m \u001b[0mbuiltins\u001b[0m\u001b[0;34m.\u001b[0m\u001b[0mopen\u001b[0m\u001b[0;34m(\u001b[0m\u001b[0mfilename\u001b[0m\u001b[0;34m,\u001b[0m \u001b[0;34m\"rb\"\u001b[0m\u001b[0;34m)\u001b[0m\u001b[0;34m\u001b[0m\u001b[0;34m\u001b[0m\u001b[0m\n\u001b[0m\u001b[1;32m   2810\u001b[0m         \u001b[0mexclusive_fp\u001b[0m \u001b[0;34m=\u001b[0m \u001b[0;32mTrue\u001b[0m\u001b[0;34m\u001b[0m\u001b[0;34m\u001b[0m\u001b[0m\n\u001b[1;32m   2811\u001b[0m \u001b[0;34m\u001b[0m\u001b[0m\n",
            "\u001b[0;31mFileNotFoundError\u001b[0m: [Errno 2] No such file or directory: 'output/sat_pose_inferences/envisat_coco/beta_test/poses/image_0_pose.jpg'"
          ]
        }
      ]
    },
    {
      "cell_type": "code",
      "metadata": {
        "id": "O6Wg5ScbqpjO"
      },
      "source": [
        "fig1 = plt.figure(figsize=(10,10))\n",
        "ax = fig.gca()\n",
        "ax2.imshow(img_out)"
      ],
      "execution_count": null,
      "outputs": []
    },
    {
      "cell_type": "markdown",
      "metadata": {
        "id": "mfV4PoskfkI-"
      },
      "source": [
        "# Pose Inference: CLI"
      ]
    },
    {
      "cell_type": "code",
      "metadata": {
        "id": "U220YEzVj3KM"
      },
      "source": [
        "'''DO NOT JUDGE THIS CODE. \n",
        "   IT WAS WRITTEN AT 3 AM \n",
        "   DURING COVID-19 QUARANTINE\n",
        "'''\n",
        "\n",
        "\n",
        "str_dir = f'/content/drive/My\\ Drive/Envisat/data/Envisat_Set1/traj_test/test_traj_150m/0-999/image_{img_id}.jpg'\n",
        "with torch.cuda.device(0):\n",
        "  !python demo/sat_pose_inference_cmd.py --cfg experiments/coco/hrnet/w32_512x512_adam_lr1e-3_ENVISAT-1_traj_test.yaml \\\n",
        "      --data_name beta_test \\\n",
        "      --data_type image \\\n",
        "      --data_path $str_dir \\\n",
        "      --bbox demo/temp.json \\\n",
        "      TEST.MODEL_FILE output/Envisat_1/coco/pose_hrnet/w32_256x256_adam_lr1e-3_ENVISAT-1/model_best.pth \\\n",
        "\n",
        "\n",
        "output = f'output/sat_pose_inferences/coco/beta_test/poses/image_{img_id}_pose.jpg'\n",
        "box = bbox[list(bbox)[0]]\n",
        "img = Image.open(output)\n",
        "\n",
        "bbox = (box[0],box[1],box[2]+box[0],box[3]+box[1])\n",
        "cv2.rectangle(np.array(img),(bbox[0],bbox[1], bbox[2], bbox[3]))\n",
        "\n",
        "img_crop = img.crop(bbox)\n",
        "fig = plt.figure(figsize=(10,10))\n",
        "ax = fig.gca()\n",
        "ax.imshow(img)\n",
        "#ax.imshow(np.asarray(img_crop))\n",
        "fig1 = plt.figure(figsize=(10,10))\n",
        "ax1 = fig.gca()\n",
        "ax1.imshow(img)\n",
        "ax1.imshow(img_crop)"
      ],
      "execution_count": null,
      "outputs": []
    },
    {
      "cell_type": "code",
      "metadata": {
        "id": "aoxYfmzAnJ02"
      },
      "source": [
        "os.getcwd()"
      ],
      "execution_count": null,
      "outputs": []
    },
    {
      "cell_type": "code",
      "metadata": {
        "id": "fpUA0zneIBFe"
      },
      "source": [
        "img"
      ],
      "execution_count": null,
      "outputs": []
    },
    {
      "cell_type": "code",
      "metadata": {
        "id": "_Zccpc06pLTE"
      },
      "source": [
        "print(bbox)"
      ],
      "execution_count": null,
      "outputs": []
    },
    {
      "cell_type": "code",
      "metadata": {
        "id": "aqFsdB1MZANp"
      },
      "source": [
        ""
      ],
      "execution_count": null,
      "outputs": []
    }
  ]
}